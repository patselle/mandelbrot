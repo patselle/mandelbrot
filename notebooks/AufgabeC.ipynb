{
 "cells": [
  {
   "cell_type": "code",
   "execution_count": 48,
   "metadata": {},
   "outputs": [],
   "source": [
    "from random import randrange"
   ]
  },
  {
   "cell_type": "code",
   "execution_count": 49,
   "metadata": {},
   "outputs": [],
   "source": [
    "# define the Player class \n",
    "class Player:\n",
    "    # this method is executed every time we create an instance of this object\n",
    "    def __init__(self, name):\n",
    "        self.name = name\n",
    "        self.__counter = 0\n",
    "        self.__last = 0\n",
    "    \n",
    "    # this is executed every time the roll method on the instance is called\n",
    "    def roll(self):\n",
    "        val = randrange(1,6)   \n",
    "        \n",
    "        if self.__last == val:\n",
    "            self.__counter += 1\n",
    "        else:\n",
    "            self.__counter = 0\n",
    "            self.__last = val\n",
    "        \n",
    "        return self.__counter"
   ]
  },
  {
   "cell_type": "code",
   "execution_count": 50,
   "metadata": {},
   "outputs": [],
   "source": [
    "# define three players\n",
    "players = [ Player('Player 1'), Player('Player 2'), Player('Player 3')]"
   ]
  },
  {
   "cell_type": "code",
   "execution_count": 51,
   "metadata": {},
   "outputs": [
    {
     "name": "stdout",
     "output_type": "stream",
     "text": [
      "Player Player 1 won after 85 attemps\n"
     ]
    }
   ],
   "source": [
    "# start iterating until one players dice the same eye number three times in a row\n",
    "counter = 0\n",
    "while(True):\n",
    "    if players[counter % len(players)].roll() == 3:\n",
    "        print(f'Player {players[i % len(players)].name} won after {int(counter / len(players))} attemps') \n",
    "        break\n",
    "    counter += 1"
   ]
  },
  {
   "cell_type": "code",
   "execution_count": null,
   "metadata": {},
   "outputs": [],
   "source": []
  }
 ],
 "metadata": {
  "kernelspec": {
   "display_name": "Python 3",
   "language": "python",
   "name": "python3"
  },
  "language_info": {
   "codemirror_mode": {
    "name": "ipython",
    "version": 3
   },
   "file_extension": ".py",
   "mimetype": "text/x-python",
   "name": "python",
   "nbconvert_exporter": "python",
   "pygments_lexer": "ipython3",
   "version": "3.7.9"
  }
 },
 "nbformat": 4,
 "nbformat_minor": 4
}
